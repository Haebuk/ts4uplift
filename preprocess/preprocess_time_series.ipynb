{
 "cells": [
  {
   "cell_type": "code",
   "execution_count": 1,
   "metadata": {},
   "outputs": [],
   "source": [
    "import sys\n",
    "sys.path.append('../')\n",
    "\n",
    "from typing import List, Dict, Tuple, Optional, Union\n",
    "import os\n",
    "import requests\n",
    "from glob import glob\n",
    "import json\n",
    "from datetime import datetime, timedelta\n",
    "\n",
    "import numpy as np\n",
    "import pandas as pd\n",
    "import matplotlib.pyplot as plt\n",
    "import seaborn as sns\n",
    "\n",
    "from tqdm import tqdm\n",
    "\n",
    "from dataset.utils import *\n",
    "\n",
    "DATA_DIR = \"/opt/datasets/thebackend\"\n",
    "PUSH_URL = BASE_URL + \"/push-data\"\n",
    "LOGIN_URL = BASE_URL + \"/login-data\"\n",
    "\n",
    "MONTHS_STR = [\"jan\", \"feb\", \"mar\", \"apr\", \"may\", \"jun\", \"jul\", \"aug\", \"sep\", \"oct\", \"nov\", \"dec\"]\n",
    "\n",
    "PUSH_DATA = os.path.join(DATA_DIR, \"push.parquet\")"
   ]
  },
  {
   "cell_type": "code",
   "execution_count": 2,
   "metadata": {},
   "outputs": [
    {
     "name": "stdout",
     "output_type": "stream",
     "text": [
      "File /opt/datasets/thebackend/push.parquet.gzip already exists. Skipping...\n"
     ]
    }
   ],
   "source": [
    "push_df  = download_push(save_dir=DATA_DIR, overwrite=False, verbose=True)\n",
    "login_df = pd.read_parquet(os.path.join(DATA_DIR, 'login_APR_JUL.parquet.gzip'))\n",
    "crud_df  = pd.read_parquet(os.path.join(DATA_DIR, 'crud_APR_JUL.parquet.gzip'))"
   ]
  },
  {
   "cell_type": "code",
   "execution_count": 9,
   "metadata": {},
   "outputs": [
    {
     "data": {
      "text/html": [
       "<div>\n",
       "<style scoped>\n",
       "    .dataframe tbody tr th:only-of-type {\n",
       "        vertical-align: middle;\n",
       "    }\n",
       "\n",
       "    .dataframe tbody tr th {\n",
       "        vertical-align: top;\n",
       "    }\n",
       "\n",
       "    .dataframe thead th {\n",
       "        text-align: right;\n",
       "    }\n",
       "</style>\n",
       "<table border=\"1\" class=\"dataframe\">\n",
       "  <thead>\n",
       "    <tr style=\"text-align: right;\">\n",
       "      <th></th>\n",
       "      <th>timestamp</th>\n",
       "      <th>game_id</th>\n",
       "      <th>is_ad</th>\n",
       "    </tr>\n",
       "  </thead>\n",
       "  <tbody>\n",
       "    <tr>\n",
       "      <th>21961</th>\n",
       "      <td>2022-04-16 12:00:00</td>\n",
       "      <td>2097</td>\n",
       "      <td>True</td>\n",
       "    </tr>\n",
       "    <tr>\n",
       "      <th>24526</th>\n",
       "      <td>2022-05-14 12:00:00</td>\n",
       "      <td>2097</td>\n",
       "      <td>True</td>\n",
       "    </tr>\n",
       "    <tr>\n",
       "      <th>27890</th>\n",
       "      <td>2022-06-18 12:00:00</td>\n",
       "      <td>2097</td>\n",
       "      <td>True</td>\n",
       "    </tr>\n",
       "    <tr>\n",
       "      <th>28192</th>\n",
       "      <td>2022-06-21 12:30:00</td>\n",
       "      <td>3065</td>\n",
       "      <td>True</td>\n",
       "    </tr>\n",
       "    <tr>\n",
       "      <th>30293</th>\n",
       "      <td>2022-07-12 12:30:00</td>\n",
       "      <td>3065</td>\n",
       "      <td>True</td>\n",
       "    </tr>\n",
       "    <tr>\n",
       "      <th>29276</th>\n",
       "      <td>2022-07-02 12:30:00</td>\n",
       "      <td>1585</td>\n",
       "      <td>True</td>\n",
       "    </tr>\n",
       "  </tbody>\n",
       "</table>\n",
       "</div>"
      ],
      "text/plain": [
       "                timestamp  game_id  is_ad\n",
       "21961 2022-04-16 12:00:00     2097   True\n",
       "24526 2022-05-14 12:00:00     2097   True\n",
       "27890 2022-06-18 12:00:00     2097   True\n",
       "28192 2022-06-21 12:30:00     3065   True\n",
       "30293 2022-07-12 12:30:00     3065   True\n",
       "29276 2022-07-02 12:30:00     1585   True"
      ]
     },
     "execution_count": 9,
     "metadata": {},
     "output_type": "execute_result"
    }
   ],
   "source": [
    "avail_push = push_df.iloc[[21961, 24526, 27890, 28192, 30293, 29276]]\n",
    "avail_push"
   ]
  },
  {
   "cell_type": "code",
   "execution_count": 10,
   "metadata": {},
   "outputs": [],
   "source": [
    "create_thebackend_dataset = lambda t, g: create_dataset(\n",
    "    timestamp=t, \n",
    "    game_id=g, \n",
    "    duration=7, \n",
    "    after_hours=[3, 6, 12], \n",
    "    before_day=7, \n",
    "    login_df=login_df, \n",
    "    crud_df=crud_df\n",
    ")"
   ]
  },
  {
   "cell_type": "code",
   "execution_count": 11,
   "metadata": {},
   "outputs": [
    {
     "data": {
      "application/vnd.jupyter.widget-view+json": {
       "model_id": "23963c30777d4e658664b9bf7db766b0",
       "version_major": 2,
       "version_minor": 0
      },
      "text/plain": [
       "0it [00:00, ?it/s]"
      ]
     },
     "metadata": {},
     "output_type": "display_data"
    },
    {
     "name": "stdout",
     "output_type": "stream",
     "text": [
      "Number of gamers for T=1 in game_id 2097: 936\n"
     ]
    },
    {
     "data": {
      "application/vnd.jupyter.widget-view+json": {
       "model_id": "0f19f447aa5e4462b183491972b2cdd2",
       "version_major": 2,
       "version_minor": 0
      },
      "text/plain": [
       "  0%|          | 0/936 [00:00<?, ?it/s]"
      ]
     },
     "metadata": {},
     "output_type": "display_data"
    },
    {
     "name": "stdout",
     "output_type": "stream",
     "text": [
      "Number of gamers for T=0 in game_id 2097: 1098\n"
     ]
    },
    {
     "data": {
      "application/vnd.jupyter.widget-view+json": {
       "model_id": "687f9d86e26e4f4c882c5e54ec50a514",
       "version_major": 2,
       "version_minor": 0
      },
      "text/plain": [
       "  0%|          | 0/1098 [00:00<?, ?it/s]"
      ]
     },
     "metadata": {},
     "output_type": "display_data"
    },
    {
     "name": "stdout",
     "output_type": "stream",
     "text": [
      "Number of gamers for T=1 in game_id 2097: 581\n"
     ]
    },
    {
     "data": {
      "application/vnd.jupyter.widget-view+json": {
       "model_id": "77a179d344d74117a1086006a31788c5",
       "version_major": 2,
       "version_minor": 0
      },
      "text/plain": [
       "  0%|          | 0/581 [00:00<?, ?it/s]"
      ]
     },
     "metadata": {},
     "output_type": "display_data"
    },
    {
     "name": "stdout",
     "output_type": "stream",
     "text": [
      "Number of gamers for T=0 in game_id 2097: 722\n"
     ]
    },
    {
     "data": {
      "application/vnd.jupyter.widget-view+json": {
       "model_id": "b421b151d07447b089b35a42ea9ada1d",
       "version_major": 2,
       "version_minor": 0
      },
      "text/plain": [
       "  0%|          | 0/722 [00:00<?, ?it/s]"
      ]
     },
     "metadata": {},
     "output_type": "display_data"
    },
    {
     "name": "stdout",
     "output_type": "stream",
     "text": [
      "Number of gamers for T=1 in game_id 2097: 393\n"
     ]
    },
    {
     "data": {
      "application/vnd.jupyter.widget-view+json": {
       "model_id": "bb16b73393cd4a09be9f130b4ec4203b",
       "version_major": 2,
       "version_minor": 0
      },
      "text/plain": [
       "  0%|          | 0/393 [00:00<?, ?it/s]"
      ]
     },
     "metadata": {},
     "output_type": "display_data"
    },
    {
     "name": "stdout",
     "output_type": "stream",
     "text": [
      "Number of gamers for T=0 in game_id 2097: 428\n"
     ]
    },
    {
     "data": {
      "application/vnd.jupyter.widget-view+json": {
       "model_id": "fabcadf7a41b48faa8abd9137c3b061d",
       "version_major": 2,
       "version_minor": 0
      },
      "text/plain": [
       "  0%|          | 0/428 [00:00<?, ?it/s]"
      ]
     },
     "metadata": {},
     "output_type": "display_data"
    },
    {
     "name": "stdout",
     "output_type": "stream",
     "text": [
      "Number of gamers for T=1 in game_id 3065: 204\n"
     ]
    },
    {
     "data": {
      "application/vnd.jupyter.widget-view+json": {
       "model_id": "e43e08d2205d460fa90c7b2427215d15",
       "version_major": 2,
       "version_minor": 0
      },
      "text/plain": [
       "  0%|          | 0/204 [00:00<?, ?it/s]"
      ]
     },
     "metadata": {},
     "output_type": "display_data"
    },
    {
     "name": "stdout",
     "output_type": "stream",
     "text": [
      "Number of gamers for T=0 in game_id 3065: 91\n"
     ]
    },
    {
     "data": {
      "application/vnd.jupyter.widget-view+json": {
       "model_id": "274feacec697485da299aac663b77e98",
       "version_major": 2,
       "version_minor": 0
      },
      "text/plain": [
       "  0%|          | 0/91 [00:00<?, ?it/s]"
      ]
     },
     "metadata": {},
     "output_type": "display_data"
    },
    {
     "name": "stdout",
     "output_type": "stream",
     "text": [
      "Number of gamers for T=1 in game_id 3065: 187\n"
     ]
    },
    {
     "data": {
      "application/vnd.jupyter.widget-view+json": {
       "model_id": "b0ec6d87766b4f3a9f879ee3e9d71199",
       "version_major": 2,
       "version_minor": 0
      },
      "text/plain": [
       "  0%|          | 0/187 [00:00<?, ?it/s]"
      ]
     },
     "metadata": {},
     "output_type": "display_data"
    },
    {
     "name": "stdout",
     "output_type": "stream",
     "text": [
      "Number of gamers for T=0 in game_id 3065: 147\n"
     ]
    },
    {
     "data": {
      "application/vnd.jupyter.widget-view+json": {
       "model_id": "ef8696f906d9421a84333b5784fe2b2f",
       "version_major": 2,
       "version_minor": 0
      },
      "text/plain": [
       "  0%|          | 0/147 [00:00<?, ?it/s]"
      ]
     },
     "metadata": {},
     "output_type": "display_data"
    },
    {
     "name": "stdout",
     "output_type": "stream",
     "text": [
      "Number of gamers for T=1 in game_id 1585: 1278\n"
     ]
    },
    {
     "data": {
      "application/vnd.jupyter.widget-view+json": {
       "model_id": "45b017208aa14071ae21ade840466af0",
       "version_major": 2,
       "version_minor": 0
      },
      "text/plain": [
       "  0%|          | 0/1278 [00:00<?, ?it/s]"
      ]
     },
     "metadata": {},
     "output_type": "display_data"
    },
    {
     "name": "stdout",
     "output_type": "stream",
     "text": [
      "Number of gamers for T=0 in game_id 1585: 1261\n"
     ]
    },
    {
     "data": {
      "application/vnd.jupyter.widget-view+json": {
       "model_id": "b40b61631a344f649aea3cb937c1e704",
       "version_major": 2,
       "version_minor": 0
      },
      "text/plain": [
       "  0%|          | 0/1261 [00:00<?, ?it/s]"
      ]
     },
     "metadata": {},
     "output_type": "display_data"
    }
   ],
   "source": [
    "DISABLE_TQDM = True\n",
    "\n",
    "all_datasets = [{'timestamp': t, 'game_id': g, 'data': create_thebackend_dataset(t, g)} for t, g in tqdm(zip(avail_push['timestamp'], avail_push['game_id']))]"
   ]
  },
  {
   "cell_type": "code",
   "execution_count": 28,
   "metadata": {},
   "outputs": [
    {
     "data": {
      "text/html": [
       "<div>\n",
       "<style scoped>\n",
       "    .dataframe tbody tr th:only-of-type {\n",
       "        vertical-align: middle;\n",
       "    }\n",
       "\n",
       "    .dataframe tbody tr th {\n",
       "        vertical-align: top;\n",
       "    }\n",
       "\n",
       "    .dataframe thead th {\n",
       "        text-align: right;\n",
       "    }\n",
       "</style>\n",
       "<table border=\"1\" class=\"dataframe\">\n",
       "  <thead>\n",
       "    <tr style=\"text-align: right;\">\n",
       "      <th></th>\n",
       "      <th>timestamp</th>\n",
       "      <th>game_id</th>\n",
       "      <th>total_users</th>\n",
       "      <th>unique_users</th>\n",
       "      <th>min_length</th>\n",
       "      <th>max_length</th>\n",
       "      <th>avg_length</th>\n",
       "      <th>std_length</th>\n",
       "      <th>total_length</th>\n",
       "      <th>users_t1</th>\n",
       "      <th>users_t0</th>\n",
       "      <th>p(Y=1)</th>\n",
       "    </tr>\n",
       "  </thead>\n",
       "  <tbody>\n",
       "    <tr>\n",
       "      <th>0</th>\n",
       "      <td>2022-04-16 12:00:00</td>\n",
       "      <td>2097</td>\n",
       "      <td>2034</td>\n",
       "      <td>1523</td>\n",
       "      <td>1</td>\n",
       "      <td>32492</td>\n",
       "      <td>562.267453</td>\n",
       "      <td>1169.916800</td>\n",
       "      <td>1143652</td>\n",
       "      <td>936</td>\n",
       "      <td>1098</td>\n",
       "      <td>0.114553</td>\n",
       "    </tr>\n",
       "    <tr>\n",
       "      <th>1</th>\n",
       "      <td>2022-05-14 12:00:00</td>\n",
       "      <td>2097</td>\n",
       "      <td>1303</td>\n",
       "      <td>992</td>\n",
       "      <td>1</td>\n",
       "      <td>105907</td>\n",
       "      <td>701.260936</td>\n",
       "      <td>3248.876255</td>\n",
       "      <td>913743</td>\n",
       "      <td>581</td>\n",
       "      <td>722</td>\n",
       "      <td>0.124328</td>\n",
       "    </tr>\n",
       "    <tr>\n",
       "      <th>2</th>\n",
       "      <td>2022-06-18 12:00:00</td>\n",
       "      <td>2097</td>\n",
       "      <td>821</td>\n",
       "      <td>632</td>\n",
       "      <td>1</td>\n",
       "      <td>31904</td>\n",
       "      <td>697.386114</td>\n",
       "      <td>1549.618272</td>\n",
       "      <td>572554</td>\n",
       "      <td>393</td>\n",
       "      <td>428</td>\n",
       "      <td>0.121803</td>\n",
       "    </tr>\n",
       "    <tr>\n",
       "      <th>3</th>\n",
       "      <td>2022-06-21 12:30:00</td>\n",
       "      <td>3065</td>\n",
       "      <td>295</td>\n",
       "      <td>279</td>\n",
       "      <td>4</td>\n",
       "      <td>5054</td>\n",
       "      <td>604.789831</td>\n",
       "      <td>891.370636</td>\n",
       "      <td>178413</td>\n",
       "      <td>204</td>\n",
       "      <td>91</td>\n",
       "      <td>0.010169</td>\n",
       "    </tr>\n",
       "    <tr>\n",
       "      <th>4</th>\n",
       "      <td>2022-07-12 12:30:00</td>\n",
       "      <td>3065</td>\n",
       "      <td>334</td>\n",
       "      <td>297</td>\n",
       "      <td>1</td>\n",
       "      <td>8599</td>\n",
       "      <td>339.128743</td>\n",
       "      <td>988.845406</td>\n",
       "      <td>113269</td>\n",
       "      <td>187</td>\n",
       "      <td>147</td>\n",
       "      <td>0.059880</td>\n",
       "    </tr>\n",
       "    <tr>\n",
       "      <th>5</th>\n",
       "      <td>2022-07-02 12:30:00</td>\n",
       "      <td>1585</td>\n",
       "      <td>2539</td>\n",
       "      <td>1637</td>\n",
       "      <td>1</td>\n",
       "      <td>28146</td>\n",
       "      <td>5416.778259</td>\n",
       "      <td>5186.774487</td>\n",
       "      <td>13753200</td>\n",
       "      <td>1278</td>\n",
       "      <td>1261</td>\n",
       "      <td>0.224498</td>\n",
       "    </tr>\n",
       "  </tbody>\n",
       "</table>\n",
       "</div>"
      ],
      "text/plain": [
       "            timestamp  game_id  total_users  unique_users  min_length  \\\n",
       "0 2022-04-16 12:00:00     2097         2034          1523           1   \n",
       "1 2022-05-14 12:00:00     2097         1303           992           1   \n",
       "2 2022-06-18 12:00:00     2097          821           632           1   \n",
       "3 2022-06-21 12:30:00     3065          295           279           4   \n",
       "4 2022-07-12 12:30:00     3065          334           297           1   \n",
       "5 2022-07-02 12:30:00     1585         2539          1637           1   \n",
       "\n",
       "   max_length   avg_length   std_length  total_length  users_t1  users_t0  \\\n",
       "0       32492   562.267453  1169.916800       1143652       936      1098   \n",
       "1      105907   701.260936  3248.876255        913743       581       722   \n",
       "2       31904   697.386114  1549.618272        572554       393       428   \n",
       "3        5054   604.789831   891.370636        178413       204        91   \n",
       "4        8599   339.128743   988.845406        113269       187       147   \n",
       "5       28146  5416.778259  5186.774487      13753200      1278      1261   \n",
       "\n",
       "     p(Y=1)  \n",
       "0  0.114553  \n",
       "1  0.124328  \n",
       "2  0.121803  \n",
       "3  0.010169  \n",
       "4  0.059880  \n",
       "5  0.224498  "
      ]
     },
     "execution_count": 28,
     "metadata": {},
     "output_type": "execute_result"
    }
   ],
   "source": [
    "dataset_info = pd.DataFrame({\n",
    "    'timestamp': [d['timestamp'] for d in all_datasets],\n",
    "    'game_id': [d['game_id'] for d in all_datasets],\n",
    "    'total_users': [len(d['data']) for d in all_datasets],\n",
    "    'unique_users': [len(np.unique([entry['gamer_id'] for entry in d['data']])) for d in all_datasets],\n",
    "    'min_length': [np.min([len(entry['X']) for entry in d['data']]) for d in all_datasets],\n",
    "    'max_length': [np.max([len(entry['X']) for entry in d['data']]) for d in all_datasets],\n",
    "    'avg_length': [np.mean([len(entry['X']) for entry in d['data']]) for d in all_datasets],\n",
    "    'std_length': [np.std([len(entry['X']) for entry in d['data']]) for d in all_datasets],\n",
    "    'total_length': [np.sum([len(entry['X']) for entry in d['data']]) for d in all_datasets],\n",
    "    'users_t1': [sum([entry['T'] for entry in d['data']]) for d in all_datasets],\n",
    "    'users_t0': [sum([1-entry['T'] for entry in d['data']]) for d in all_datasets],\n",
    "    'p(Y=1)': [np.array([entry['Y'] for entry in d['data']]).mean(axis=0)[0] for d in all_datasets],\n",
    "})\n",
    "dataset_info"
   ]
  },
  {
   "cell_type": "code",
   "execution_count": 22,
   "metadata": {},
   "outputs": [
    {
     "data": {
      "text/plain": [
       "{'gamer_id': 'DB35469139C04074A9F7B3CD30026AFCBCB1BE7067EFA330471B074C74401894',\n",
       " 'X':                    timestamp method  action\n",
       " 0    2022-04-09 12:02:01.000  LOGIN       1\n",
       " 1    2022-04-09 12:03:17.838   POST      11\n",
       " 2    2022-04-09 12:23:56.065   POST      11\n",
       " 3    2022-04-09 12:45:28.907   POST      11\n",
       " 4    2022-04-09 13:02:12.790    GET      24\n",
       " ...                      ...    ...     ...\n",
       " 1756 2022-04-16 11:41:19.154    GET       7\n",
       " 1757 2022-04-16 11:41:19.355    GET       7\n",
       " 1758 2022-04-16 11:41:19.399    GET       7\n",
       " 1759 2022-04-16 11:41:19.405    GET       7\n",
       " 1760 2022-04-16 11:42:32.630   POST      11\n",
       " \n",
       " [1761 rows x 3 columns],\n",
       " 'Y': array([1., 1., 1.]),\n",
       " 'T': 1}"
      ]
     },
     "execution_count": 22,
     "metadata": {},
     "output_type": "execute_result"
    }
   ],
   "source": [
    "all_datasets[0]['data'][0]['gamer_id']"
   ]
  },
  {
   "cell_type": "code",
   "execution_count": 52,
   "metadata": {},
   "outputs": [],
   "source": [
    "SAVE_DIR = \"/opt/datasets/thebackend/v0.1\"\n",
    "os.makedirs(SAVE_DIR, exist_ok=True)\n",
    "\n",
    "for d in all_datasets:\n",
    "    timestamp = d['timestamp']\n",
    "    game_id = d['game_id']\n",
    "    save_path = os.path.join(SAVE_DIR, f\"{timestamp.strftime('%Y%m%d-%H%M%S')}_{game_id}\")\n",
    "    os.makedirs(save_path, exist_ok=True)\n",
    "    \n",
    "    infos = []\n",
    "    for i, entry in enumerate(d['data']):\n",
    "        gamer_id = entry['gamer_id']\n",
    "        X = entry['X']\n",
    "        Y = entry['Y']\n",
    "        T = entry['T']\n",
    "\n",
    "        X['action'] = X['action'].astype(np.int8)\n",
    "        X['action'] = X['method'].replace({'MASK': 0, 'LOGIN': 1, 'GET': 2, 'POST': 3, 'PUT': 4, 'DELETE': 5}).astype(np.int8)\n",
    "\n",
    "        infos.append({'X': f\"{gamer_id}_T={T}.parquet\", 'Y': Y.tolist(), 'T': T})\n",
    "        X.to_parquet(os.path.join(save_path, f\"{gamer_id}_T={T}.parquet\"))\n",
    "        # np.save(os.path.join(save_path, f\"{gamer_id}_T={T}.npy\"), X)\n",
    "\n",
    "    with open(os.path.join(save_path, \"info.json\"), \"w\") as f:\n",
    "        json.dump(infos, f)"
   ]
  }
 ],
 "metadata": {
  "kernelspec": {
   "display_name": "Python 3.8.13 ('torch-uplift')",
   "language": "python",
   "name": "python3"
  },
  "language_info": {
   "codemirror_mode": {
    "name": "ipython",
    "version": 3
   },
   "file_extension": ".py",
   "mimetype": "text/x-python",
   "name": "python",
   "nbconvert_exporter": "python",
   "pygments_lexer": "ipython3",
   "version": "3.8.13"
  },
  "orig_nbformat": 4,
  "vscode": {
   "interpreter": {
    "hash": "7dc4597e10c2bd55d0c0f1eeb7cbb4e0ca1417000f2874714e757a3f07cc044d"
   }
  }
 },
 "nbformat": 4,
 "nbformat_minor": 2
}
