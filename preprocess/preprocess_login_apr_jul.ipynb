{
 "cells": [
  {
   "cell_type": "code",
   "execution_count": 2,
   "metadata": {},
   "outputs": [],
   "source": [
    "import sys\n",
    "sys.path.append('../')\n",
    "\n",
    "from typing import List, Dict, Tuple, Optional, Union\n",
    "import os\n",
    "import requests\n",
    "from glob import glob\n",
    "import json\n",
    "from datetime import datetime, timedelta\n",
    "\n",
    "import numpy as np\n",
    "import pandas as pd\n",
    "import matplotlib.pyplot as plt\n",
    "import seaborn as sns\n",
    "\n",
    "from dataset.utils import *"
   ]
  },
  {
   "cell_type": "code",
   "execution_count": 3,
   "metadata": {},
   "outputs": [],
   "source": [
    "DATA_DIR = \"/opt/datasets/thebackend\"\n",
    "BASE_URL = \"http://ec2-13-125-225-205.ap-northeast-2.compute.amazonaws.com\"\n",
    "PUSH_URL = BASE_URL + \"/push-data\"\n",
    "LOGIN_URL = BASE_URL + \"/login-data\"\n",
    "\n",
    "MONTHS_STR = [\"jan\", \"feb\", \"mar\", \"apr\", \"may\", \"jun\", \"jul\", \"aug\", \"sep\", \"oct\", \"nov\", \"dec\"]\n",
    "\n",
    "PUSH_DATA = os.path.join(DATA_DIR, \"push.parquet\")"
   ]
  },
  {
   "cell_type": "code",
   "execution_count": 3,
   "metadata": {},
   "outputs": [
    {
     "name": "stdout",
     "output_type": "stream",
     "text": [
      "File /opt/datasets/thebackend/push.parquet.gzip already exists. Skipping...\n",
      "Number of pushes: 41523\n"
     ]
    },
    {
     "data": {
      "text/html": [
       "<div>\n",
       "<style scoped>\n",
       "    .dataframe tbody tr th:only-of-type {\n",
       "        vertical-align: middle;\n",
       "    }\n",
       "\n",
       "    .dataframe tbody tr th {\n",
       "        vertical-align: top;\n",
       "    }\n",
       "\n",
       "    .dataframe thead th {\n",
       "        text-align: right;\n",
       "    }\n",
       "</style>\n",
       "<table border=\"1\" class=\"dataframe\">\n",
       "  <thead>\n",
       "    <tr style=\"text-align: right;\">\n",
       "      <th></th>\n",
       "      <th>timestamp</th>\n",
       "      <th>game_id</th>\n",
       "      <th>is_ad</th>\n",
       "    </tr>\n",
       "  </thead>\n",
       "  <tbody>\n",
       "    <tr>\n",
       "      <th>0</th>\n",
       "      <td>2019-09-24 12:00:00</td>\n",
       "      <td>2147484420</td>\n",
       "      <td>False</td>\n",
       "    </tr>\n",
       "    <tr>\n",
       "      <th>1</th>\n",
       "      <td>2019-09-24 12:30:00</td>\n",
       "      <td>2147484420</td>\n",
       "      <td>False</td>\n",
       "    </tr>\n",
       "    <tr>\n",
       "      <th>2</th>\n",
       "      <td>2019-09-24 15:30:00</td>\n",
       "      <td>2147484420</td>\n",
       "      <td>False</td>\n",
       "    </tr>\n",
       "    <tr>\n",
       "      <th>3</th>\n",
       "      <td>2019-10-11 23:00:00</td>\n",
       "      <td>748</td>\n",
       "      <td>False</td>\n",
       "    </tr>\n",
       "    <tr>\n",
       "      <th>4</th>\n",
       "      <td>2019-10-26 12:00:00</td>\n",
       "      <td>438</td>\n",
       "      <td>False</td>\n",
       "    </tr>\n",
       "  </tbody>\n",
       "</table>\n",
       "</div>"
      ],
      "text/plain": [
       "            timestamp     game_id  is_ad\n",
       "0 2019-09-24 12:00:00  2147484420  False\n",
       "1 2019-09-24 12:30:00  2147484420  False\n",
       "2 2019-09-24 15:30:00  2147484420  False\n",
       "3 2019-10-11 23:00:00         748  False\n",
       "4 2019-10-26 12:00:00         438  False"
      ]
     },
     "execution_count": 3,
     "metadata": {},
     "output_type": "execute_result"
    }
   ],
   "source": [
    "push_df = download_push(save_dir=DATA_DIR, overwrite=False, verbose=True)\n",
    "print(\"Number of pushes:\", len(push_df))\n",
    "push_df.head()"
   ]
  },
  {
   "cell_type": "code",
   "execution_count": 4,
   "metadata": {},
   "outputs": [
    {
     "data": {
      "text/plain": [
       "array([2147484420,        748,        438,         72,        822,\n",
       "       2147484504,        521,         85,        385,        892,\n",
       "              232,        527,        427,        237,        807,\n",
       "              975,        410,        525,        432,       1009,\n",
       "             1007,        931,        398,        833, 2147484583,\n",
       "             1191,        283,        824,        796,        797,\n",
       "             1068,       1391,       1135,       1484,       1510,\n",
       "             1440,       1341,       1337,        105,        120,\n",
       "             1515,       1758,       1744,       1783,       1413,\n",
       "             1591,       1104,       1482,        941,       1779,\n",
       "             1494,       1368,       1940, 2147484610,       1951,\n",
       "             1693,       2062,       1865,       2123,       2097,\n",
       "             1760,       2080,       2253,       1638,       1933,\n",
       "             2304,       2267,       2195,       1903,       2280,\n",
       "             1853,       2364,       1088,       1802,       2013,\n",
       "             2319,       1618,       2555,       1599,       2516,\n",
       "       2147484527,       2339,       1572,       2006,       2141,\n",
       "             1913,       2273,       2731,       2702,        953,\n",
       "             1916,       2634,       2199,       2082,       1773,\n",
       "             2837,       2326,       2823,       2000,       1908,\n",
       "             2799,       2985,       2483,       3153,       1419,\n",
       "             2498,       1501,       2583,       2814,       2708,\n",
       "              479,       2979,       2744,       2205,       3220,\n",
       "             3129,       3001,       2379,       3458,       3336,\n",
       "             3425,       3065,       2795,       3454,       1585,\n",
       "             2699,       2912,       1829,       2243,       3280,\n",
       "             3765,       3322,       3548,       2734,       3758,\n",
       "             3887,       3981,       3302,       2402,       4032,\n",
       "             3079])"
      ]
     },
     "execution_count": 4,
     "metadata": {},
     "output_type": "execute_result"
    }
   ],
   "source": [
    "push_df['game_id'].unique()"
   ]
  },
  {
   "cell_type": "code",
   "execution_count": 5,
   "metadata": {},
   "outputs": [
    {
     "name": "stdout",
     "output_type": "stream",
     "text": [
      "11753\n"
     ]
    }
   ],
   "source": [
    "start_date = datetime(2022, 4, 1)\n",
    "end_date = datetime(2022, 8, 1)\n",
    "\n",
    "push_df = push_df[(push_df['timestamp'] >= start_date) & (push_df['timestamp'] < end_date)]\n",
    "print(len(push_df))"
   ]
  },
  {
   "cell_type": "code",
   "execution_count": 6,
   "metadata": {},
   "outputs": [
    {
     "name": "stdout",
     "output_type": "stream",
     "text": [
      "Number of available pushes: 54\n"
     ]
    },
    {
     "data": {
      "text/html": [
       "<div>\n",
       "<style scoped>\n",
       "    .dataframe tbody tr th:only-of-type {\n",
       "        vertical-align: middle;\n",
       "    }\n",
       "\n",
       "    .dataframe tbody tr th {\n",
       "        vertical-align: top;\n",
       "    }\n",
       "\n",
       "    .dataframe thead th {\n",
       "        text-align: right;\n",
       "    }\n",
       "</style>\n",
       "<table border=\"1\" class=\"dataframe\">\n",
       "  <thead>\n",
       "    <tr style=\"text-align: right;\">\n",
       "      <th></th>\n",
       "      <th>timestamp</th>\n",
       "      <th>game_id</th>\n",
       "      <th>is_ad</th>\n",
       "    </tr>\n",
       "  </thead>\n",
       "  <tbody>\n",
       "    <tr>\n",
       "      <th>21961</th>\n",
       "      <td>2022-04-16 12:00:00</td>\n",
       "      <td>2097</td>\n",
       "      <td>True</td>\n",
       "    </tr>\n",
       "    <tr>\n",
       "      <th>22052</th>\n",
       "      <td>2022-04-17 12:00:00</td>\n",
       "      <td>2097</td>\n",
       "      <td>True</td>\n",
       "    </tr>\n",
       "    <tr>\n",
       "      <th>22322</th>\n",
       "      <td>2022-04-20 11:44:52</td>\n",
       "      <td>2097</td>\n",
       "      <td>True</td>\n",
       "    </tr>\n",
       "    <tr>\n",
       "      <th>23263</th>\n",
       "      <td>2022-04-30 12:00:00</td>\n",
       "      <td>2097</td>\n",
       "      <td>True</td>\n",
       "    </tr>\n",
       "    <tr>\n",
       "      <th>23361</th>\n",
       "      <td>2022-05-01 12:00:00</td>\n",
       "      <td>2097</td>\n",
       "      <td>True</td>\n",
       "    </tr>\n",
       "  </tbody>\n",
       "</table>\n",
       "</div>"
      ],
      "text/plain": [
       "                timestamp  game_id  is_ad\n",
       "21961 2022-04-16 12:00:00     2097   True\n",
       "22052 2022-04-17 12:00:00     2097   True\n",
       "22322 2022-04-20 11:44:52     2097   True\n",
       "23263 2022-04-30 12:00:00     2097   True\n",
       "23361 2022-05-01 12:00:00     2097   True"
      ]
     },
     "execution_count": 6,
     "metadata": {},
     "output_type": "execute_result"
    }
   ],
   "source": [
    "BEFORE_HOUR = 12\n",
    "AFTER_HOUR = 6\n",
    "SAMPLING_DAY = 7\n",
    "\n",
    "avail_push = get_available_pushes(push_df, before_hour=BEFORE_HOUR, after_hour=AFTER_HOUR, sampling_day=SAMPLING_DAY)\n",
    "# need data period prior to sampling day for T=0\n",
    "avail_push = avail_push[(avail_push['timestamp'] >= start_date + timedelta(days=SAMPLING_DAY)) & (avail_push['is_ad'] == True)]\n",
    "print(\"Number of available pushes:\", len(avail_push))\n",
    "avail_push.head()"
   ]
  },
  {
   "cell_type": "code",
   "execution_count": 7,
   "metadata": {},
   "outputs": [
    {
     "data": {
      "text/plain": [
       "array([2097, 3065, 1585])"
      ]
     },
     "execution_count": 7,
     "metadata": {},
     "output_type": "execute_result"
    }
   ],
   "source": [
    "avail_push['game_id'].unique()"
   ]
  },
  {
   "cell_type": "code",
   "execution_count": 8,
   "metadata": {},
   "outputs": [
    {
     "name": "stdout",
     "output_type": "stream",
     "text": [
      "Number of login records in APR: 9409802\n",
      "Number of login records in JUL: 6208411\n"
     ]
    }
   ],
   "source": [
    "login_csvs_04 = sorted(glob(os.path.join(DATA_DIR, '04', 'raw', 'login', '*.csv')))\n",
    "login_csvs_07 = sorted(glob(os.path.join(DATA_DIR, '07', 'raw', 'login', '*.csv')))\n",
    "\n",
    "login_04 = preprocess_login_csv(login_csvs_04)\n",
    "login_07 = preprocess_login_csv(login_csvs_07)\n",
    "\n",
    "print(\"Number of login records in APR:\", len(login_04))\n",
    "print(\"Number of login records in JUL:\", len(login_07))"
   ]
  },
  {
   "cell_type": "code",
   "execution_count": 9,
   "metadata": {},
   "outputs": [
    {
     "data": {
      "text/html": [
       "<div>\n",
       "<style scoped>\n",
       "    .dataframe tbody tr th:only-of-type {\n",
       "        vertical-align: middle;\n",
       "    }\n",
       "\n",
       "    .dataframe tbody tr th {\n",
       "        vertical-align: top;\n",
       "    }\n",
       "\n",
       "    .dataframe thead th {\n",
       "        text-align: right;\n",
       "    }\n",
       "</style>\n",
       "<table border=\"1\" class=\"dataframe\">\n",
       "  <thead>\n",
       "    <tr style=\"text-align: right;\">\n",
       "      <th></th>\n",
       "      <th>timestamp</th>\n",
       "      <th>game_id</th>\n",
       "      <th>gamer_id</th>\n",
       "    </tr>\n",
       "  </thead>\n",
       "  <tbody>\n",
       "    <tr>\n",
       "      <th>0</th>\n",
       "      <td>2022-04-01 09:00:01</td>\n",
       "      <td>2708</td>\n",
       "      <td>E3F2684504FE4207EE3368B6229A4ECC3793C56524AE12...</td>\n",
       "    </tr>\n",
       "    <tr>\n",
       "      <th>1</th>\n",
       "      <td>2022-04-01 09:00:01</td>\n",
       "      <td>1916</td>\n",
       "      <td>E0EA56AE51C70ABF1611742BECFE98B09EC1BC7D00CA6C...</td>\n",
       "    </tr>\n",
       "    <tr>\n",
       "      <th>2</th>\n",
       "      <td>2022-04-01 09:00:01</td>\n",
       "      <td>2097</td>\n",
       "      <td>6E3D6673357B36BB53949B29CC6FC4AEB4777E0168A51B...</td>\n",
       "    </tr>\n",
       "    <tr>\n",
       "      <th>3</th>\n",
       "      <td>2022-04-01 09:00:02</td>\n",
       "      <td>380</td>\n",
       "      <td>837F2759F1521D3615D10AB402CE6152A13DA9BCCB8499...</td>\n",
       "    </tr>\n",
       "    <tr>\n",
       "      <th>4</th>\n",
       "      <td>2022-04-01 09:00:02</td>\n",
       "      <td>2273</td>\n",
       "      <td>694EA7080F9FB31FC631DFE4275A8A5D97D17C4F7677E6...</td>\n",
       "    </tr>\n",
       "  </tbody>\n",
       "</table>\n",
       "</div>"
      ],
      "text/plain": [
       "            timestamp game_id  \\\n",
       "0 2022-04-01 09:00:01    2708   \n",
       "1 2022-04-01 09:00:01    1916   \n",
       "2 2022-04-01 09:00:01    2097   \n",
       "3 2022-04-01 09:00:02     380   \n",
       "4 2022-04-01 09:00:02    2273   \n",
       "\n",
       "                                            gamer_id  \n",
       "0  E3F2684504FE4207EE3368B6229A4ECC3793C56524AE12...  \n",
       "1  E0EA56AE51C70ABF1611742BECFE98B09EC1BC7D00CA6C...  \n",
       "2  6E3D6673357B36BB53949B29CC6FC4AEB4777E0168A51B...  \n",
       "3  837F2759F1521D3615D10AB402CE6152A13DA9BCCB8499...  \n",
       "4  694EA7080F9FB31FC631DFE4275A8A5D97D17C4F7677E6...  "
      ]
     },
     "execution_count": 9,
     "metadata": {},
     "output_type": "execute_result"
    }
   ],
   "source": [
    "login_04.head()"
   ]
  },
  {
   "cell_type": "code",
   "execution_count": 10,
   "metadata": {},
   "outputs": [
    {
     "data": {
      "text/html": [
       "<div>\n",
       "<style scoped>\n",
       "    .dataframe tbody tr th:only-of-type {\n",
       "        vertical-align: middle;\n",
       "    }\n",
       "\n",
       "    .dataframe tbody tr th {\n",
       "        vertical-align: top;\n",
       "    }\n",
       "\n",
       "    .dataframe thead th {\n",
       "        text-align: right;\n",
       "    }\n",
       "</style>\n",
       "<table border=\"1\" class=\"dataframe\">\n",
       "  <thead>\n",
       "    <tr style=\"text-align: right;\">\n",
       "      <th></th>\n",
       "      <th>timestamp</th>\n",
       "      <th>game_id</th>\n",
       "      <th>gamer_id</th>\n",
       "    </tr>\n",
       "  </thead>\n",
       "  <tbody>\n",
       "    <tr>\n",
       "      <th>0</th>\n",
       "      <td>2022-07-01 09:00:00</td>\n",
       "      <td>1908</td>\n",
       "      <td>B7657AA237DA01E842FB89C8FE2FB772947E4BD88D3DCE...</td>\n",
       "    </tr>\n",
       "    <tr>\n",
       "      <th>1</th>\n",
       "      <td>2022-07-01 09:00:00</td>\n",
       "      <td>2326</td>\n",
       "      <td>77FC00DAE87D6FEF670F8352D7FBEF5B06ADBEBD8B8F10...</td>\n",
       "    </tr>\n",
       "    <tr>\n",
       "      <th>2</th>\n",
       "      <td>2022-07-01 09:00:00</td>\n",
       "      <td>380</td>\n",
       "      <td>9945989258E03007D67C6C08872FD6F013A55885CE0CFD...</td>\n",
       "    </tr>\n",
       "    <tr>\n",
       "      <th>3</th>\n",
       "      <td>2022-07-01 09:00:01</td>\n",
       "      <td>2734</td>\n",
       "      <td>883D5407B7ED923BCEAFD01946690CFA42F7F640EF0B3C...</td>\n",
       "    </tr>\n",
       "    <tr>\n",
       "      <th>4</th>\n",
       "      <td>2022-07-01 09:00:02</td>\n",
       "      <td>2082</td>\n",
       "      <td>3437349B74170BA0F537FBAC6BCC75FE436EAC65B4CDBF...</td>\n",
       "    </tr>\n",
       "  </tbody>\n",
       "</table>\n",
       "</div>"
      ],
      "text/plain": [
       "            timestamp game_id  \\\n",
       "0 2022-07-01 09:00:00    1908   \n",
       "1 2022-07-01 09:00:00    2326   \n",
       "2 2022-07-01 09:00:00     380   \n",
       "3 2022-07-01 09:00:01    2734   \n",
       "4 2022-07-01 09:00:02    2082   \n",
       "\n",
       "                                            gamer_id  \n",
       "0  B7657AA237DA01E842FB89C8FE2FB772947E4BD88D3DCE...  \n",
       "1  77FC00DAE87D6FEF670F8352D7FBEF5B06ADBEBD8B8F10...  \n",
       "2  9945989258E03007D67C6C08872FD6F013A55885CE0CFD...  \n",
       "3  883D5407B7ED923BCEAFD01946690CFA42F7F640EF0B3C...  \n",
       "4  3437349B74170BA0F537FBAC6BCC75FE436EAC65B4CDBF...  "
      ]
     },
     "execution_count": 10,
     "metadata": {},
     "output_type": "execute_result"
    }
   ],
   "source": [
    "login_07.head()"
   ]
  },
  {
   "cell_type": "code",
   "execution_count": 11,
   "metadata": {},
   "outputs": [
    {
     "name": "stdout",
     "output_type": "stream",
     "text": [
      "Number of login records in MAY: 7682737\n",
      "Number of login records in JUN: 6347094\n"
     ]
    }
   ],
   "source": [
    "login_05 = load_login_from_parquet(os.path.join(DATA_DIR, '05', 'login.parquet'))\n",
    "login_06 = load_login_from_parquet(os.path.join(DATA_DIR, '06', 'login.parquet'))\n",
    "\n",
    "print(\"Number of login records in MAY:\", len(login_05))\n",
    "print(\"Number of login records in JUN:\", len(login_06))"
   ]
  },
  {
   "cell_type": "code",
   "execution_count": 12,
   "metadata": {},
   "outputs": [
    {
     "data": {
      "text/html": [
       "<div>\n",
       "<style scoped>\n",
       "    .dataframe tbody tr th:only-of-type {\n",
       "        vertical-align: middle;\n",
       "    }\n",
       "\n",
       "    .dataframe tbody tr th {\n",
       "        vertical-align: top;\n",
       "    }\n",
       "\n",
       "    .dataframe thead th {\n",
       "        text-align: right;\n",
       "    }\n",
       "</style>\n",
       "<table border=\"1\" class=\"dataframe\">\n",
       "  <thead>\n",
       "    <tr style=\"text-align: right;\">\n",
       "      <th></th>\n",
       "      <th>timestamp</th>\n",
       "      <th>game_id</th>\n",
       "      <th>gamer_id</th>\n",
       "    </tr>\n",
       "  </thead>\n",
       "  <tbody>\n",
       "    <tr>\n",
       "      <th>0</th>\n",
       "      <td>2022-05-01 00:00:00.281</td>\n",
       "      <td>2870</td>\n",
       "      <td>D15813658C080ED71B604F9652497E80E584EBB0663041...</td>\n",
       "    </tr>\n",
       "    <tr>\n",
       "      <th>1</th>\n",
       "      <td>2022-05-01 00:00:00.838</td>\n",
       "      <td>2870</td>\n",
       "      <td>25B0FE66B0AAF9C658C97BD296F59E738DF80AA67C13CE...</td>\n",
       "    </tr>\n",
       "    <tr>\n",
       "      <th>2</th>\n",
       "      <td>2022-05-01 00:00:01.137</td>\n",
       "      <td>1999</td>\n",
       "      <td>DCA1CEE21AA84B5D53722BFF4C56DCD6EA62B1B7269F6D...</td>\n",
       "    </tr>\n",
       "    <tr>\n",
       "      <th>3</th>\n",
       "      <td>2022-05-01 00:00:01.416</td>\n",
       "      <td>2273</td>\n",
       "      <td>A15946CC33F014162DEB35B9FCAFCF2AF4F3F779128E3A...</td>\n",
       "    </tr>\n",
       "    <tr>\n",
       "      <th>4</th>\n",
       "      <td>2022-05-01 00:00:01.450</td>\n",
       "      <td>2273</td>\n",
       "      <td>E916EBA787250EAB46F0C78786CD6A60C74B8554B9B852...</td>\n",
       "    </tr>\n",
       "  </tbody>\n",
       "</table>\n",
       "</div>"
      ],
      "text/plain": [
       "                timestamp  game_id  \\\n",
       "0 2022-05-01 00:00:00.281     2870   \n",
       "1 2022-05-01 00:00:00.838     2870   \n",
       "2 2022-05-01 00:00:01.137     1999   \n",
       "3 2022-05-01 00:00:01.416     2273   \n",
       "4 2022-05-01 00:00:01.450     2273   \n",
       "\n",
       "                                            gamer_id  \n",
       "0  D15813658C080ED71B604F9652497E80E584EBB0663041...  \n",
       "1  25B0FE66B0AAF9C658C97BD296F59E738DF80AA67C13CE...  \n",
       "2  DCA1CEE21AA84B5D53722BFF4C56DCD6EA62B1B7269F6D...  \n",
       "3  A15946CC33F014162DEB35B9FCAFCF2AF4F3F779128E3A...  \n",
       "4  E916EBA787250EAB46F0C78786CD6A60C74B8554B9B852...  "
      ]
     },
     "execution_count": 12,
     "metadata": {},
     "output_type": "execute_result"
    }
   ],
   "source": [
    "login_05.head()"
   ]
  },
  {
   "cell_type": "code",
   "execution_count": 13,
   "metadata": {},
   "outputs": [
    {
     "data": {
      "text/html": [
       "<div>\n",
       "<style scoped>\n",
       "    .dataframe tbody tr th:only-of-type {\n",
       "        vertical-align: middle;\n",
       "    }\n",
       "\n",
       "    .dataframe tbody tr th {\n",
       "        vertical-align: top;\n",
       "    }\n",
       "\n",
       "    .dataframe thead th {\n",
       "        text-align: right;\n",
       "    }\n",
       "</style>\n",
       "<table border=\"1\" class=\"dataframe\">\n",
       "  <thead>\n",
       "    <tr style=\"text-align: right;\">\n",
       "      <th></th>\n",
       "      <th>timestamp</th>\n",
       "      <th>game_id</th>\n",
       "      <th>gamer_id</th>\n",
       "    </tr>\n",
       "  </thead>\n",
       "  <tbody>\n",
       "    <tr>\n",
       "      <th>0</th>\n",
       "      <td>2022-06-01 00:00:00.303</td>\n",
       "      <td>2273</td>\n",
       "      <td>EF4FAD5942C1660ED9DA8F35011F856D98D3A73CE944F8...</td>\n",
       "    </tr>\n",
       "    <tr>\n",
       "      <th>1</th>\n",
       "      <td>2022-06-01 00:00:00.364</td>\n",
       "      <td>2082</td>\n",
       "      <td>3E3BE17527ACDFED07B66D525763526C9BB65C9517970C...</td>\n",
       "    </tr>\n",
       "    <tr>\n",
       "      <th>2</th>\n",
       "      <td>2022-06-01 00:00:00.634</td>\n",
       "      <td>2326</td>\n",
       "      <td>6156AD175A9878A69A89C4DBCC72A30FB5FD71AFF78C25...</td>\n",
       "    </tr>\n",
       "    <tr>\n",
       "      <th>3</th>\n",
       "      <td>2022-06-01 00:00:01.139</td>\n",
       "      <td>428</td>\n",
       "      <td>403C1450B8C6C294BD35A7F9591B4F612ACDF40BC14323...</td>\n",
       "    </tr>\n",
       "    <tr>\n",
       "      <th>4</th>\n",
       "      <td>2022-06-01 00:00:01.257</td>\n",
       "      <td>2147</td>\n",
       "      <td>4A2E276E7CCA32EE34E20F7044035BCB3F73B6DFD97B95...</td>\n",
       "    </tr>\n",
       "  </tbody>\n",
       "</table>\n",
       "</div>"
      ],
      "text/plain": [
       "                timestamp  game_id  \\\n",
       "0 2022-06-01 00:00:00.303     2273   \n",
       "1 2022-06-01 00:00:00.364     2082   \n",
       "2 2022-06-01 00:00:00.634     2326   \n",
       "3 2022-06-01 00:00:01.139      428   \n",
       "4 2022-06-01 00:00:01.257     2147   \n",
       "\n",
       "                                            gamer_id  \n",
       "0  EF4FAD5942C1660ED9DA8F35011F856D98D3A73CE944F8...  \n",
       "1  3E3BE17527ACDFED07B66D525763526C9BB65C9517970C...  \n",
       "2  6156AD175A9878A69A89C4DBCC72A30FB5FD71AFF78C25...  \n",
       "3  403C1450B8C6C294BD35A7F9591B4F612ACDF40BC14323...  \n",
       "4  4A2E276E7CCA32EE34E20F7044035BCB3F73B6DFD97B95...  "
      ]
     },
     "execution_count": 13,
     "metadata": {},
     "output_type": "execute_result"
    }
   ],
   "source": [
    "login_06.head()"
   ]
  },
  {
   "cell_type": "code",
   "execution_count": 19,
   "metadata": {},
   "outputs": [],
   "source": [
    "login_df = pd.concat([login_04, login_05, login_06, login_07], axis=0)\n",
    "login_df.reset_index(drop=True, inplace=True)\n",
    "login_df['gamer_id'] = login_df['gamer_id'].astype(str)\n",
    "login_df['game_id'] = login_df['game_id'].astype('category')"
   ]
  },
  {
   "cell_type": "code",
   "execution_count": 20,
   "metadata": {},
   "outputs": [
    {
     "data": {
      "text/html": [
       "<div>\n",
       "<style scoped>\n",
       "    .dataframe tbody tr th:only-of-type {\n",
       "        vertical-align: middle;\n",
       "    }\n",
       "\n",
       "    .dataframe tbody tr th {\n",
       "        vertical-align: top;\n",
       "    }\n",
       "\n",
       "    .dataframe thead th {\n",
       "        text-align: right;\n",
       "    }\n",
       "</style>\n",
       "<table border=\"1\" class=\"dataframe\">\n",
       "  <thead>\n",
       "    <tr style=\"text-align: right;\">\n",
       "      <th></th>\n",
       "      <th>timestamp</th>\n",
       "      <th>game_id</th>\n",
       "      <th>gamer_id</th>\n",
       "    </tr>\n",
       "  </thead>\n",
       "  <tbody>\n",
       "    <tr>\n",
       "      <th>0</th>\n",
       "      <td>2022-04-01 09:00:01</td>\n",
       "      <td>2708</td>\n",
       "      <td>E3F2684504FE4207EE3368B6229A4ECC3793C56524AE12...</td>\n",
       "    </tr>\n",
       "    <tr>\n",
       "      <th>1</th>\n",
       "      <td>2022-04-01 09:00:01</td>\n",
       "      <td>1916</td>\n",
       "      <td>E0EA56AE51C70ABF1611742BECFE98B09EC1BC7D00CA6C...</td>\n",
       "    </tr>\n",
       "    <tr>\n",
       "      <th>2</th>\n",
       "      <td>2022-04-01 09:00:01</td>\n",
       "      <td>2097</td>\n",
       "      <td>6E3D6673357B36BB53949B29CC6FC4AEB4777E0168A51B...</td>\n",
       "    </tr>\n",
       "    <tr>\n",
       "      <th>3</th>\n",
       "      <td>2022-04-01 09:00:02</td>\n",
       "      <td>380</td>\n",
       "      <td>837F2759F1521D3615D10AB402CE6152A13DA9BCCB8499...</td>\n",
       "    </tr>\n",
       "    <tr>\n",
       "      <th>4</th>\n",
       "      <td>2022-04-01 09:00:02</td>\n",
       "      <td>2273</td>\n",
       "      <td>694EA7080F9FB31FC631DFE4275A8A5D97D17C4F7677E6...</td>\n",
       "    </tr>\n",
       "  </tbody>\n",
       "</table>\n",
       "</div>"
      ],
      "text/plain": [
       "            timestamp game_id  \\\n",
       "0 2022-04-01 09:00:01    2708   \n",
       "1 2022-04-01 09:00:01    1916   \n",
       "2 2022-04-01 09:00:01    2097   \n",
       "3 2022-04-01 09:00:02     380   \n",
       "4 2022-04-01 09:00:02    2273   \n",
       "\n",
       "                                            gamer_id  \n",
       "0  E3F2684504FE4207EE3368B6229A4ECC3793C56524AE12...  \n",
       "1  E0EA56AE51C70ABF1611742BECFE98B09EC1BC7D00CA6C...  \n",
       "2  6E3D6673357B36BB53949B29CC6FC4AEB4777E0168A51B...  \n",
       "3  837F2759F1521D3615D10AB402CE6152A13DA9BCCB8499...  \n",
       "4  694EA7080F9FB31FC631DFE4275A8A5D97D17C4F7677E6...  "
      ]
     },
     "execution_count": 20,
     "metadata": {},
     "output_type": "execute_result"
    }
   ],
   "source": [
    "login_df.head()"
   ]
  },
  {
   "cell_type": "code",
   "execution_count": 25,
   "metadata": {},
   "outputs": [],
   "source": [
    "login_df.to_parquet(os.path.join(DATA_DIR, 'login_APR_JUL.parquet.gzip'), index=False, compression='gzip', engine='pyarrow')"
   ]
  },
  {
   "cell_type": "code",
   "execution_count": 10,
   "metadata": {},
   "outputs": [],
   "source": [
    "login_df = pd.read_parquet(os.path.join(DATA_DIR, 'login_APR_JUL.parquet.gzip'), engine='pyarrow')"
   ]
  },
  {
   "cell_type": "code",
   "execution_count": 11,
   "metadata": {},
   "outputs": [
    {
     "data": {
      "text/html": [
       "<div>\n",
       "<style scoped>\n",
       "    .dataframe tbody tr th:only-of-type {\n",
       "        vertical-align: middle;\n",
       "    }\n",
       "\n",
       "    .dataframe tbody tr th {\n",
       "        vertical-align: top;\n",
       "    }\n",
       "\n",
       "    .dataframe thead th {\n",
       "        text-align: right;\n",
       "    }\n",
       "</style>\n",
       "<table border=\"1\" class=\"dataframe\">\n",
       "  <thead>\n",
       "    <tr style=\"text-align: right;\">\n",
       "      <th></th>\n",
       "      <th>timestamp</th>\n",
       "      <th>game_id</th>\n",
       "      <th>gamer_id</th>\n",
       "    </tr>\n",
       "  </thead>\n",
       "  <tbody>\n",
       "    <tr>\n",
       "      <th>0</th>\n",
       "      <td>2022-04-01 09:00:01</td>\n",
       "      <td>2708</td>\n",
       "      <td>E3F2684504FE4207EE3368B6229A4ECC3793C56524AE12...</td>\n",
       "    </tr>\n",
       "    <tr>\n",
       "      <th>1</th>\n",
       "      <td>2022-04-01 09:00:01</td>\n",
       "      <td>1916</td>\n",
       "      <td>E0EA56AE51C70ABF1611742BECFE98B09EC1BC7D00CA6C...</td>\n",
       "    </tr>\n",
       "    <tr>\n",
       "      <th>2</th>\n",
       "      <td>2022-04-01 09:00:01</td>\n",
       "      <td>2097</td>\n",
       "      <td>6E3D6673357B36BB53949B29CC6FC4AEB4777E0168A51B...</td>\n",
       "    </tr>\n",
       "    <tr>\n",
       "      <th>3</th>\n",
       "      <td>2022-04-01 09:00:02</td>\n",
       "      <td>380</td>\n",
       "      <td>837F2759F1521D3615D10AB402CE6152A13DA9BCCB8499...</td>\n",
       "    </tr>\n",
       "    <tr>\n",
       "      <th>4</th>\n",
       "      <td>2022-04-01 09:00:02</td>\n",
       "      <td>2273</td>\n",
       "      <td>694EA7080F9FB31FC631DFE4275A8A5D97D17C4F7677E6...</td>\n",
       "    </tr>\n",
       "  </tbody>\n",
       "</table>\n",
       "</div>"
      ],
      "text/plain": [
       "            timestamp  game_id  \\\n",
       "0 2022-04-01 09:00:01     2708   \n",
       "1 2022-04-01 09:00:01     1916   \n",
       "2 2022-04-01 09:00:01     2097   \n",
       "3 2022-04-01 09:00:02      380   \n",
       "4 2022-04-01 09:00:02     2273   \n",
       "\n",
       "                                            gamer_id  \n",
       "0  E3F2684504FE4207EE3368B6229A4ECC3793C56524AE12...  \n",
       "1  E0EA56AE51C70ABF1611742BECFE98B09EC1BC7D00CA6C...  \n",
       "2  6E3D6673357B36BB53949B29CC6FC4AEB4777E0168A51B...  \n",
       "3  837F2759F1521D3615D10AB402CE6152A13DA9BCCB8499...  \n",
       "4  694EA7080F9FB31FC631DFE4275A8A5D97D17C4F7677E6...  "
      ]
     },
     "execution_count": 11,
     "metadata": {},
     "output_type": "execute_result"
    }
   ],
   "source": [
    "login_df.head()"
   ]
  },
  {
   "cell_type": "code",
   "execution_count": 28,
   "metadata": {},
   "outputs": [
    {
     "data": {
      "text/plain": [
       "timestamp    datetime64[ns]\n",
       "game_id               int64\n",
       "gamer_id             object\n",
       "dtype: object"
      ]
     },
     "execution_count": 28,
     "metadata": {},
     "output_type": "execute_result"
    }
   ],
   "source": [
    "login_df.dtypes"
   ]
  },
  {
   "cell_type": "code",
   "execution_count": 4,
   "metadata": {},
   "outputs": [],
   "source": [
    "crud_dfs = []\n",
    "for month in range(4, 8):\n",
    "    crud_df = pd.read_parquet(os.path.join(DATA_DIR, f'{month:02d}', 'raw', f'{month:02d}.parquet'), engine='pyarrow')\n",
    "    crud_df.rename(columns={'indate': 'timestamp', 'inDate': 'timestamp'}, inplace=True)\n",
    "    crud_df['timestamp'] = crud_df['timestamp'].dt.tz_localize(None)\n",
    "    crud_df.sort_values(by=['timestamp'], inplace=True)\n",
    "    crud_dfs.append(crud_df)\n",
    "crud_df = pd.concat(crud_dfs, axis=0)"
   ]
  },
  {
   "cell_type": "code",
   "execution_count": 12,
   "metadata": {},
   "outputs": [
    {
     "data": {
      "text/plain": [
       "(Timestamp('2022-04-01 00:00:00.030000'),\n",
       " Timestamp('2022-07-06 23:59:59.822000'))"
      ]
     },
     "execution_count": 12,
     "metadata": {},
     "output_type": "execute_result"
    }
   ],
   "source": [
    "crud_df['timestamp'].min(), crud_df['timestamp'].max()"
   ]
  },
  {
   "cell_type": "code",
   "execution_count": 13,
   "metadata": {},
   "outputs": [
    {
     "data": {
      "text/plain": [
       "array([1585, 2097, 2195, 1829, 3065, 3322, 3548])"
      ]
     },
     "execution_count": 13,
     "metadata": {},
     "output_type": "execute_result"
    }
   ],
   "source": [
    "crud_df['game_id'].unique()"
   ]
  },
  {
   "cell_type": "code",
   "execution_count": 7,
   "metadata": {},
   "outputs": [],
   "source": [
    "crud_df.reset_index(drop=True, inplace=True)"
   ]
  },
  {
   "cell_type": "code",
   "execution_count": 9,
   "metadata": {},
   "outputs": [],
   "source": [
    "crud_df.to_parquet(os.path.join(DATA_DIR, 'crud_APR_JUL.parquet.gzip'), index=False, compression='gzip', engine='pyarrow')"
   ]
  },
  {
   "cell_type": "code",
   "execution_count": 16,
   "metadata": {},
   "outputs": [
    {
     "data": {
      "text/plain": [
       "24.534302121028304"
      ]
     },
     "execution_count": 16,
     "metadata": {},
     "output_type": "execute_result"
    }
   ],
   "source": [
    "crud_df.memory_usage(deep=True).sum() / 1024**3"
   ]
  },
  {
   "cell_type": "code",
   "execution_count": 17,
   "metadata": {},
   "outputs": [
    {
     "data": {
      "text/plain": [
       "3.782829415053129"
      ]
     },
     "execution_count": 17,
     "metadata": {},
     "output_type": "execute_result"
    }
   ],
   "source": [
    "login_df.memory_usage(deep=True).sum() / 1024**3"
   ]
  },
  {
   "cell_type": "code",
   "execution_count": null,
   "metadata": {},
   "outputs": [],
   "source": []
  }
 ],
 "metadata": {
  "kernelspec": {
   "display_name": "Python 3.8.13 ('torch-uplift')",
   "language": "python",
   "name": "python3"
  },
  "language_info": {
   "codemirror_mode": {
    "name": "ipython",
    "version": 3
   },
   "file_extension": ".py",
   "mimetype": "text/x-python",
   "name": "python",
   "nbconvert_exporter": "python",
   "pygments_lexer": "ipython3",
   "version": "3.8.13"
  },
  "orig_nbformat": 4,
  "vscode": {
   "interpreter": {
    "hash": "7dc4597e10c2bd55d0c0f1eeb7cbb4e0ca1417000f2874714e757a3f07cc044d"
   }
  }
 },
 "nbformat": 4,
 "nbformat_minor": 2
}
